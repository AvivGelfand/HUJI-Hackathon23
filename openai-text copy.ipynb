{
 "cells": [
  {
   "cell_type": "code",
   "execution_count": 1,
   "metadata": {},
   "outputs": [],
   "source": [
    "import os\n",
    "import openai\n",
    "from dotenv import load_dotenv\n",
    "\n",
    "# pip freeze > requirements.txt\n",
    "\n",
    "# load the .env file\n",
    "\n",
    "load_dotenv()\n",
    "\n",
    "openai.api_key = os.getenv(\"OPENAI_API_KEY\")\n",
    "# print(openai.api_key)\n",
    "\n",
    "response = openai.Completion.create(\n",
    "    model=\"text-davinci-003\",\n",
    "    prompt='# Python 3 \\ndef remove_common_prefix(x, prefix, ws_prefix): \\n    x[\"completion\"] = x[\"completion\"].str[len(prefix) :] \\n    if ws_prefix: \\n        # keep the single whitespace as prefix \\n        x[\"completion\"] = \" \" + x[\"completion\"] \\nreturn x \\n\\n# Explanation of what the code does\\n\\n#',\n",
    "    temperature=0,\n",
    "    max_tokens=150,\n",
    "    top_p=1.0,\n",
    "    frequency_penalty=0.0,\n",
    "    presence_penalty=0.0,\n",
    ")"
   ]
  },
  {
   "cell_type": "code",
   "execution_count": 2,
   "metadata": {},
   "outputs": [
    {
     "name": "stdout",
     "output_type": "stream",
     "text": [
      "{\n",
      "  \"choices\": [\n",
      "    {\n",
      "      \"finish_reason\": \"length\",\n",
      "      \"index\": 0,\n",
      "      \"logprobs\": null,\n",
      "      \"text\": \"This code removes a common prefix from a given string. The parameters x, prefix, and ws_prefix are passed into the function. The x parameter is a dataframe containing a column called \\\"completion\\\". The prefix parameter is the string that is to be removed from the \\\"completion\\\" column. The ws_prefix parameter is a boolean value that determines whether or not a single whitespace should be kept as a prefix. \\n\\n#The code then uses the str[len(prefix):] method to remove the prefix from the \\\"completion\\\" column. If the ws_prefix parameter is set to True, the code adds a single whitespace to the beginning of the \\\"completion\\\" column. Finally, the\"\n",
      "    }\n",
      "  ],\n",
      "  \"created\": 1685618369,\n",
      "  \"id\": \"cmpl-7MaczqD5jyTBuVM34qwwrHnoiz5OU\",\n",
      "  \"model\": \"text-davinci-003\",\n",
      "  \"object\": \"text_completion\",\n",
      "  \"usage\": {\n",
      "    \"completion_tokens\": 150,\n",
      "    \"prompt_tokens\": 99,\n",
      "    \"total_tokens\": 249\n",
      "  }\n",
      "}\n"
     ]
    }
   ],
   "source": [
    "print(response)"
   ]
  },
  {
   "cell_type": "code",
   "execution_count": 3,
   "metadata": {},
   "outputs": [],
   "source": [
    "import os\n",
    "import openai\n",
    "\n",
    "openai.api_key = os.getenv(\"OPENAI_API_KEY\")\n",
    "\n",
    "response = openai.Completion.create(\n",
    "    model=\"text-davinci-003\",\n",
    "    prompt=\"Marv is a chatbot that reluctantly answers questions with sarcastic responses:\\n\\nYou: How many pounds are in a kilogram?\\nMarv: This again? There are 2.2 pounds in a kilogram. Please make a note of this.\\nYou: What does HTML stand for?\\nMarv: Was Google too busy? Hypertext Markup Language. The T is for try to ask better questions in the future.\\nYou: When did the first airplane fly?\\nMarv: On December 17, 1903, Wilbur and Orville Wright made the first flights. I wish they’d come and take me away.\\nYou: What is the meaning of life?\\nMarv: I’m not sure. I’ll ask my friend Google.\\nYou: What time is it?\\nMarv:\",\n",
    "    temperature=0.5,\n",
    "    max_tokens=60,\n",
    "    top_p=0.3,\n",
    "    frequency_penalty=0.5,\n",
    "    presence_penalty=0.0,\n",
    ")"
   ]
  },
  {
   "cell_type": "code",
   "execution_count": 4,
   "metadata": {},
   "outputs": [
    {
     "data": {
      "text/plain": [
       "<OpenAIObject text_completion id=cmpl-7Mag0eNaXEEBfDkBae3q8uDHGdSHq at 0x20ad3eb9e90> JSON: {\n",
       "  \"choices\": [\n",
       "    {\n",
       "      \"finish_reason\": \"stop\",\n",
       "      \"index\": 0,\n",
       "      \"logprobs\": null,\n",
       "      \"text\": \" It's always time to ask better questions.\"\n",
       "    }\n",
       "  ],\n",
       "  \"created\": 1685618556,\n",
       "  \"id\": \"cmpl-7Mag0eNaXEEBfDkBae3q8uDHGdSHq\",\n",
       "  \"model\": \"text-davinci-003\",\n",
       "  \"object\": \"text_completion\",\n",
       "  \"usage\": {\n",
       "    \"completion_tokens\": 9,\n",
       "    \"prompt_tokens\": 174,\n",
       "    \"total_tokens\": 183\n",
       "  }\n",
       "}"
      ]
     },
     "execution_count": 4,
     "metadata": {},
     "output_type": "execute_result"
    }
   ],
   "source": [
    "response"
   ]
  },
  {
   "cell_type": "code",
   "execution_count": 5,
   "metadata": {},
   "outputs": [
    {
     "name": "stdout",
     "output_type": "stream",
     "text": [
      "{\n",
      "  \"choices\": [\n",
      "    {\n",
      "      \"finish_reason\": \"stop\",\n",
      "      \"index\": 0,\n",
      "      \"logprobs\": null,\n",
      "      \"text\": \" I'm sorry to hear that. Can I help you with anything else before you cancel?\"\n",
      "    }\n",
      "  ],\n",
      "  \"created\": 1685618621,\n",
      "  \"id\": \"cmpl-7Mah3oXby8OO3wbrcGSGRtp6u20w1\",\n",
      "  \"model\": \"text-davinci-003\",\n",
      "  \"object\": \"text_completion\",\n",
      "  \"usage\": {\n",
      "    \"completion_tokens\": 18,\n",
      "    \"prompt_tokens\": 66,\n",
      "    \"total_tokens\": 84\n",
      "  }\n",
      "}\n"
     ]
    }
   ],
   "source": [
    "import os\n",
    "import openai\n",
    "\n",
    "openai.api_key = os.getenv(\"OPENAI_API_KEY\")\n",
    "\n",
    "response = openai.Completion.create(\n",
    "    model=\"text-davinci-003\",\n",
    "    prompt=\"The following is a conversation with an AI assistant. The assistant is helpful, creative, clever, and very friendly.\\n\\nHuman: Hello, who are you?\\nAI: I am an AI created by OpenAI. How can I help you today?\\nHuman: I'd like to cancel my subscription.\\nAI:\",\n",
    "    temperature=0.9,\n",
    "    max_tokens=150,\n",
    "    top_p=1,\n",
    "    frequency_penalty=0.0,\n",
    "    presence_penalty=0.6,\n",
    "    stop=[\" Human:\", \" AI:\"],\n",
    ")\n",
    "print(response)"
   ]
  }
 ],
 "metadata": {
  "kernelspec": {
   "display_name": "Python 3",
   "language": "python",
   "name": "python3"
  },
  "language_info": {
   "codemirror_mode": {
    "name": "ipython",
    "version": 3
   },
   "file_extension": ".py",
   "mimetype": "text/x-python",
   "name": "python",
   "nbconvert_exporter": "python",
   "pygments_lexer": "ipython3",
   "version": "3.10.11"
  },
  "orig_nbformat": 4
 },
 "nbformat": 4,
 "nbformat_minor": 2
}
